{
 "metadata": {
  "name": "making-groundtruth"
 },
 "nbformat": 3,
 "nbformat_minor": 0,
 "worksheets": [
  {
   "cells": [
    {
     "cell_type": "code",
     "collapsed": false,
     "input": [
      "from pylab import *"
     ],
     "language": "python",
     "metadata": {},
     "outputs": [],
     "prompt_number": 1
    },
    {
     "cell_type": "heading",
     "level": 1,
     "metadata": {},
     "source": [
      "Making Groundtruth"
     ]
    },
    {
     "cell_type": "markdown",
     "metadata": {},
     "source": [
      "Creating ground truth for OCR training from scratch is usually\n",
      "a fairly laborious process.\n",
      "However, we can create some ground truth fairly automatically.\n",
      "\n",
      "There are many existing OCR systems. Even if their error rates\n",
      "may be higher than that of OCRopus, they can still help us get\n",
      "a larger variety of training data, in particular for initial\n",
      "training.\n",
      "\n",
      "Let's demonstrate this with the Tesseract OCR system.\n",
      "We first as Tesseract to produce output in hOCR format."
     ]
    },
    {
     "cell_type": "code",
     "collapsed": false,
     "input": [
      "!tesseract -l deu-frak 0211.bin.png 0211 hocr"
     ],
     "language": "python",
     "metadata": {},
     "outputs": [
      {
       "output_type": "stream",
       "stream": "stdout",
       "text": [
        "Tesseract Open Source OCR Engine v3.02 with Leptonica\r\n"
       ]
      }
     ],
     "prompt_number": 8
    },
    {
     "cell_type": "markdown",
     "metadata": {},
     "source": [
      "As you can see in the output, there is information about bounding\n",
      "boxes and locations of text lines and words."
     ]
    },
    {
     "cell_type": "code",
     "collapsed": false,
     "input": [
      "!fmt 0211.html | sed '20,30!d' "
     ],
     "language": "python",
     "metadata": {},
     "outputs": [
      {
       "output_type": "stream",
       "stream": "stdout",
       "text": [
        "2709 805 2906 885\">wuthe</span> <span class='ocr_word' id='word_13'\r\n",
        "title=\"bbox 2948 803 3266 881\">(wadete)</span> <span class='ocr_word'\r\n",
        "id='word_15' title=\"bbox 3308 799 3445 871\">\u00fcber</span> </span>\r\n",
        "<span class='ocr_line' id='line_3' title=\"bbox 1542 915 3444\r\n",
        "1005\"><span class='ocr_word' id='word_17' title=\"bbox 1542 925 1655\r\n",
        "989\">alle</span> <span class='ocr_word' id='word_19' title=\"bbox 1688\r\n",
        "927 1954 1005\">Wasser,</span> <span class='ocr_word' id='word_21'\r\n",
        "title=\"bbox 2000 922 2155 997\">dorst</span> <span class='ocr_word'\r\n",
        "id='word_23' title=\"bbox 2198 922 2524 998\">(braucht)</span> <span\r\n",
        "class='ocr_word' id='word_25' title=\"bbox 2564 923 2702 992\">\u00fcber</span>\r\n",
        "<span class='ocr_word' id='word_27' title=\"bbox 2753 926 2905\r\n"
       ]
      }
     ],
     "prompt_number": 10
    },
    {
     "cell_type": "markdown",
     "metadata": {},
     "source": [
      "This OCR gets quite a bit wrong, but we only care about getting some training\n",
      "data, not transcribing the entire document."
     ]
    },
    {
     "cell_type": "code",
     "collapsed": false,
     "input": [
      "!lynx -dump 0211.html | sed '20,30!d'"
     ],
     "language": "python",
     "metadata": {},
     "outputs": [
      {
       "output_type": "stream",
       "stream": "stdout",
       "text": [
        "\r\n",
        "   Feinde, Winden und Hunnen, meinten, es w\u00e4r der leidige Teufel.\r\n",
        "\r\n",
        "   19. Riesen\u00bb S\u00e4ulen.\r\n",
        "\r\n",
        "   Wi n ketiiia n n\u2019 s hessifche Chronik. S. z2. M el i s s a n t e s in\r\n",
        "   0rqgraph. bei Maichene Berg.\r\n",
        "\r\n",
        "   Bei Miltenberg oder Kleinen-Haubaih auf einein hohen Geb\u00fcrg ini Walde\r\n",
        "   sind neun geivaltige, gro\u00dfe,\r\n"
       ]
      }
     ],
     "prompt_number": 13
    },
    {
     "cell_type": "markdown",
     "metadata": {},
     "source": [
      "To get good training data, we just focus on output that is correctly spelled.\n",
      "\n",
      "The `hocr-xwords` script reads such hOCR files and takes a spelling dictionary.\n",
      "It then goes through the hOCR output produced by the OCR engine, picks out\n",
      "sequences of words that are spelled correctly (some common punctuation is allowed),\n",
      "and writes out both the text (as ground truth) and the corresponding image\n",
      "in a format suitable for training."
     ]
    },
    {
     "cell_type": "code",
     "collapsed": false,
     "input": [
      "!hocr-xwords -w 400 -d de_DE 0211.html"
     ],
     "language": "python",
     "metadata": {},
     "outputs": [
      {
       "output_type": "stream",
       "stream": "stdout",
       "text": [
        "page_1 0211.bin.png\r\n"
       ]
      },
      {
       "output_type": "stream",
       "stream": "stdout",
       "text": [
        "(7009, 4959) (7009, 4959)\r\n",
        "alle Wasser,\r\n",
        "keine Br\u00fccke gehen,\r\n",
        "nieder, h\u00e4ngt\r\n"
       ]
      },
      {
       "output_type": "stream",
       "stream": "stdout",
       "text": [
        "gute Gesellen\r\n",
        "sieben oder acht\r\n",
        "viel Volks wider solche Kr\u00f6ten\r\n",
        "Riesen nennt\r\n",
        "Feinde, Winden\r\n",
        "Hunnen, meinten,\r\n",
        "leidige Teufel.\r\n"
       ]
      }
     ],
     "prompt_number": 5
    },
    {
     "cell_type": "markdown",
     "metadata": {},
     "source": [
      "Here is an example of what this looks like."
     ]
    },
    {
     "cell_type": "code",
     "collapsed": false,
     "input": [
      "import codecs\n",
      "print repr(codecs.open(\"0211/010001.gt.txt\",\"r\",\"utf-8\").read())\n",
      "imshow(imread(\"0211/010001.bin.png\"),cmap=cm.gray)"
     ],
     "language": "python",
     "metadata": {},
     "outputs": [
      {
       "output_type": "stream",
       "stream": "stdout",
       "text": [
        "u'alle Wasser,'\n"
       ]
      },
      {
       "output_type": "pyout",
       "prompt_number": 16,
       "text": [
        "<matplotlib.image.AxesImage at 0x46fbb10>"
       ]
      },
      {
       "output_type": "display_data",
       "png": "[encoded data removed]"
      }
     ],
     "prompt_number": 16
    },
    {
     "cell_type": "markdown",
     "metadata": {},
     "source": [
      "As you can see, a whole page of text only gave rise to a few lines of training text,\n",
      "but that's enough, since there are many scanned pages we can easily get a hold of.\n",
      "\n",
      "You can control the number of lines returned with the `-w` and `-m` arguments;\n",
      "with really short lines, you risk accidentally matching a word in the dictionary\n",
      "and making text line geometry modeling harder, while with really long lines, you\n",
      "will simply not find a lot of examples.\n",
      "\n",
      "Furthermore, after generating training data like this initially, it is easy to\n",
      "verify it by training on it and seeing which lines remain misclassified."
     ]
    },
    {
     "cell_type": "markdown",
     "metadata": {},
     "source": [
      "Note that you can also use OCRopus itself to perform these steps; even if its performance\n",
      "on some new font is fairly poor, it will pick up a lot of good training data, and that\n",
      "will allow it to improve itself."
     ]
    },
    {
     "cell_type": "code",
     "collapsed": false,
     "input": [],
     "language": "python",
     "metadata": {},
     "outputs": []
    }
   ],
   "metadata": {}
  }
 ]
}